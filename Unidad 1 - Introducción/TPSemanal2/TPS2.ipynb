{
 "cells": [
  {
   "cell_type": "markdown",
   "id": "bb912e95",
   "metadata": {},
   "source": [
    "# TP Semanal 2"
   ]
  },
  {
   "cell_type": "markdown",
   "id": "5d82b1ce",
   "metadata": {},
   "source": [
    "## Consignas"
   ]
  },
  {
   "cell_type": "markdown",
   "id": "2329a3c2",
   "metadata": {},
   "source": [
    "<img src=\"consigna.png\">"
   ]
  },
  {
   "cell_type": "markdown",
   "id": "c875feac",
   "metadata": {},
   "source": [
    "<b>Consignas de la actividad:</b>\n",
    "\n",
    "👉  Hallar la transferencia T=\\frac{Vo}{Vi} en función de ωo y Q.\n",
    "\n",
    "👉  Obtener el valor de los componentes del circuito de forma tal que ωo=1 y Q=3\n",
    "\n",
    "👉  Ajustar el valor de R1 de forma tal que |T(0)|=20dB.\n",
    "\n",
    "<b>Bonus:</b>\n",
    "<ul>\n",
    "    <li>+10 💎 Obtener los valores de la red normalizados en frecuencia e impedancia.</li>\n",
    "    <li>+10 🎓 Calcular las sensibilidades  $\\mathrm{S}_{w0}^{C}$, $\\mathrm{S}_{Q}^{R2}$ y $\\mathrm{S}_{Q}^{R3}$ </li>\n",
    "    <li>+10 🤯 Recalcular los valores de la red para que cumpla con una transferencia Butterworth.</li>\n",
    "    <li>+10  🎸 Cómo podría obtener un circuito pasabanda con los mismos componentes originales y con qué parámetros quedaría diseñado (Ver ejemplo 4.6 en Schaumann).</li>\n",
    "    <li>+10  ⚽️ Simulación circuital de todos los experimentos.</li>\n",
    "    <li>+10  🍺 Presentación en jupyter notebook</li>\n",
    "</ul>\n"
   ]
  },
  {
   "cell_type": "markdown",
   "id": "c0144371",
   "metadata": {},
   "source": [
    "## Resolucion"
   ]
  },
  {
   "cell_type": "markdown",
   "id": "f52f0bec",
   "metadata": {},
   "source": [
    "### Calculos"
   ]
  },
  {
   "cell_type": "code",
   "execution_count": 6,
   "id": "0eabc36d",
   "metadata": {},
   "outputs": [
    {
     "data": {
      "text/html": [
       "\n",
       "        <iframe\n",
       "            width=\"1000\"\n",
       "            height=\"700\"\n",
       "            src=\"TP Semanal 2.pdf\"\n",
       "            frameborder=\"0\"\n",
       "            allowfullscreen\n",
       "            \n",
       "        ></iframe>\n",
       "        "
      ],
      "text/plain": [
       "<IPython.lib.display.IFrame at 0x258ae6c3bd0>"
      ]
     },
     "execution_count": 6,
     "metadata": {},
     "output_type": "execute_result"
    }
   ],
   "source": [
    "from IPython.display import IFrame\n",
    "IFrame(\"TP Semanal 2.pdf\", width=1000, height=700)"
   ]
  },
  {
   "attachments": {},
   "cell_type": "markdown",
   "id": "3914cf14",
   "metadata": {},
   "source": [
    "### Simulaciones en Python"
   ]
  },
  {
   "attachments": {},
   "cell_type": "markdown",
   "id": "e92fdb10",
   "metadata": {},
   "source": [
    "#### Defino clase segundo orden para facilitarme el trabajo"
   ]
  },
  {
   "cell_type": "code",
   "execution_count": null,
   "id": "7fb2c868",
   "metadata": {},
   "outputs": [],
   "source": [
    "from scipy.signal import TransferFunction\n",
    "import matplotlib.pyplot as plt\n",
    "import numpy as np\n",
    "from pytc2.sistemas_lineales import pzmap, bodePlot\n",
    "\n",
    "BandaDePaso = {\n",
    "    \"PASA_BAJOS\": 0,\n",
    "    \"PASA_ALTOS\": 1,\n",
    "    \"PASA_BANDAS\": 2,\n",
    "    \"PASA_TODO\": 3,\n",
    "    \"ELIMINA_BANDA\": 4\n",
    "}\n",
    "\n",
    "class SistemaSegundoOrden:\n",
    "    def __init__(self, k, q, w0, bandpass):\n",
    "        self.k = k\n",
    "        self.w0 = w0\n",
    "        self.q = q\n",
    "        self.bandpass = bandpass\n",
    "\n",
    "    def printGraficos(self):\n",
    "        if self.bandpass == BandaDePaso[\"PASA_BAJOS\"]:\n",
    "            num = [0, 0, self.w0**2]\n",
    "        elif self.bandpass == BandaDePaso[\"PASA_ALTOS\"]:\n",
    "            num = [1, 0, 0]\n",
    "        elif self.bandpass == BandaDePaso[\"PASA_BANDAS\"]:\n",
    "            num = [0, self.w0/self.q, 0]\n",
    "        elif self.bandpass == BandaDePaso[\"ELIMINA_BANDA\"]:\n",
    "            num = [1, 0, 0]\n",
    "        else:\n",
    "            num = [1, -self.w0/self.q, self.w0**2]\n",
    "\n",
    "        transf = TransferFunction( num, [1, self.wo/self.q, self.wo**2] )\n",
    "        bodePlot(transf, fig_id=1,filter_description=f\"Q={self.q}\\nK={self.k}\" )\n",
    "        pzmap(transf, fig_id=2)"
   ]
  },
  {
   "attachments": {},
   "cell_type": "markdown",
   "id": "0653183a",
   "metadata": {},
   "source": [
    "#### Simulacion para filtro pasabajos de segundo orden\n",
    "Caracteristicas del sistema: W0=1 Q=3 K=10"
   ]
  },
  {
   "cell_type": "code",
   "execution_count": null,
   "id": "c056a166",
   "metadata": {},
   "outputs": [],
   "source": [
    "# Componentes\n",
    "r1= 100\n",
    "r2= 3*(10**3)\n",
    "r3= 1*(10**3)\n",
    "c = 1*(10**-3)\n",
    "\n",
    "# Parametros del sistema w0=1, Q=3, k=10, pasabajos\n",
    "k = -r3/r1\n",
    "w0 = 1/(r3 * c)\n",
    "q = r2 / r3 \n",
    "\n",
    "# Genero sistema y exporto graficos\n",
    "mySys1 = SistemaSegundoOrden(k, w0, q, BandaDePaso[\"PASA_BAJOS\"])\n",
    "mySys1.printGraficos()"
   ]
  },
  {
   "attachments": {},
   "cell_type": "markdown",
   "id": "ab5e923e",
   "metadata": {},
   "source": [
    "#### Simulacion para filtro pasabajos de segundo orden Butterworth\n",
    "Caracteristicas del sistema: W0=1 Q=1/raiz(2) K=10"
   ]
  },
  {
   "cell_type": "code",
   "execution_count": null,
   "id": "930a3555",
   "metadata": {},
   "outputs": [],
   "source": [
    "# Componentes\n",
    "r1= 1*(10**3)\n",
    "r2= 1*(10**3)\n",
    "r3= 1.41*(10**3)\n",
    "c = 1*(10**-3)\n",
    "\n",
    "# Parametros del sistema w0=1, Q=1/raiz(2), k=10, pasabajos\n",
    "k = -r3/r1\n",
    "wo = 1/(r3 * c)\n",
    "q = r2 / r3 \n",
    "\n",
    "# Genero sistema y exporto graficos\n",
    "mySys2 = SistemaSegundoOrden(k, w0, q, BandaDePaso[\"PASA_BAJOS\"])\n",
    "mySys2.printGraficos()"
   ]
  },
  {
   "attachments": {},
   "cell_type": "markdown",
   "id": "2fc58365",
   "metadata": {},
   "source": [
    "#### Simulacion para filtro pasabandas de segundo orden\n",
    "Caracteristicas del sistema: w0=1 Q=1/raiz(2) K=10"
   ]
  },
  {
   "cell_type": "code",
   "execution_count": null,
   "id": "7778b715",
   "metadata": {},
   "outputs": [],
   "source": [
    "# Componentes\n",
    "r1= 1*(10**3)\n",
    "r2= 1*(10**3)\n",
    "r3= 1.41*(10**3)\n",
    "c = 1*(10**-3)\n",
    "\n",
    "# Parametros del sistema w0=1, Q=1/raiz(2), k=1, pasabandas\n",
    "k = -r2/r1\n",
    "wo = 1/(r3 * c)\n",
    "q = r2 / r3\n",
    "\n",
    "# Genero sistema y exporto graficos\n",
    "mySys3 = SistemaSegundoOrden(k, w0, q, BandaDePaso[\"PASA_BANDAS\"])\n",
    "mySys3.printGraficos()"
   ]
  },
  {
   "attachments": {},
   "cell_type": "markdown",
   "id": "f0abe7be",
   "metadata": {},
   "source": [
    "### Simulaciones en LTSpice"
   ]
  },
  {
   "cell_type": "markdown",
   "id": "2b26f7e0",
   "metadata": {},
   "source": [
    "#### Simulacion Pasabajos\n",
    "<img src=\"Simulacion Pasabajos.jpg\">\n",
    "\n",
    "#### Siumlacion Pasabandas\n",
    "<img src=\"Simulacion Pasabanda.jpg\">"
   ]
  },
  {
   "attachments": {},
   "cell_type": "markdown",
   "id": "70eddbe7",
   "metadata": {},
   "source": [
    "#### Comentario\n",
    "Como comentario agrego que me llamó la atención el operacional U2 de la simulación de LTSpice justo arriba de esta sección.\n",
    "Por lo visto en TC1 me hubiera parecido más razonable que el orden del diferencial de entrada fuese al revés. De tal modo que U3 realimente positivo pero con una señal previamente invertida. Es decir que U2 se comportaría como amplificador inversor de ganancia -1.\n",
    "Sin embargo, haciendo pruebas en el simulador, verifiqué que el orden de esa entrada diferencial no afecta en lo absoluto en el sistema. Es decir, de las dos formas que acabo de mencionar se comporta igual.\n",
    "No hice un análisis profundo para sacar una conclusión de por qué pasa esto pero me llamó la atención y me parece interesante dejarlo plasmado acá."
   ]
  }
 ],
 "metadata": {
  "kernelspec": {
   "display_name": "Python 3 (ipykernel)",
   "language": "python",
   "name": "python3"
  },
  "language_info": {
   "codemirror_mode": {
    "name": "ipython",
    "version": 3
   },
   "file_extension": ".py",
   "mimetype": "text/x-python",
   "name": "python",
   "nbconvert_exporter": "python",
   "pygments_lexer": "ipython3",
   "version": "3.11.1"
  }
 },
 "nbformat": 4,
 "nbformat_minor": 5
}
