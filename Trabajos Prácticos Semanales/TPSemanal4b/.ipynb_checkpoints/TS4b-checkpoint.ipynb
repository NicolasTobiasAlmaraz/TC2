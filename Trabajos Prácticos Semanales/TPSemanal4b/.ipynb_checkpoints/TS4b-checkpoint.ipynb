{
 "cells": [
  {
   "cell_type": "markdown",
   "id": "f530132d",
   "metadata": {},
   "source": [
    "# TP Semanal 4"
   ]
  },
  {
   "cell_type": "markdown",
   "id": "af3c95eb",
   "metadata": {},
   "source": [
    "## Consignas:\n",
    "\n",
    "<img src=\"consignas.png\">"
   ]
  },
  {
   "cell_type": "markdown",
   "id": "0d6e4528",
   "metadata": {},
   "source": [
    "## Resolución:"
   ]
  },
  {
   "cell_type": "code",
   "execution_count": 3,
   "id": "f2c0583c",
   "metadata": {},
   "outputs": [
    {
     "data": {
      "text/html": [
       "\n",
       "        <iframe\n",
       "            width=\"700\"\n",
       "            height=\"600\"\n",
       "            src=\"TS4.pdf\"\n",
       "            frameborder=\"0\"\n",
       "            allowfullscreen\n",
       "            \n",
       "        ></iframe>\n",
       "        "
      ],
      "text/plain": [
       "<IPython.lib.display.IFrame at 0x1333d5133d0>"
      ]
     },
     "execution_count": 3,
     "metadata": {},
     "output_type": "execute_result"
    }
   ],
   "source": [
    "from IPython.display import IFrame\n",
    "\n",
    "IFrame(src='TS4.pdf', width=700, height=600)"
   ]
  },
  {
   "cell_type": "markdown",
   "id": "728e6bb4",
   "metadata": {},
   "source": [
    "## Simulaciones:"
   ]
  },
  {
   "cell_type": "markdown",
   "id": "80786c80",
   "metadata": {},
   "source": [
    "### Python"
   ]
  },
  {
   "cell_type": "markdown",
   "id": "188ecd6c",
   "metadata": {},
   "source": [
    "Aca me armé algunas funciones útiles que me van a servir también para las proximas tareas semanales"
   ]
  },
  {
   "cell_type": "code",
   "execution_count": 4,
   "id": "f0e517de",
   "metadata": {},
   "outputs": [],
   "source": [
    "import numpy as np\n",
    "import matplotlib.pyplot as plt\n",
    "from scipy import signal\n",
    "\n",
    "\"\"\"\n",
    "Te crea tf butter normalizada\n",
    "\"\"\"\n",
    "def butterworth(n):\n",
    "    # Crear los polos del filtro Butterworth\n",
    "    num,den = signal.butter(n, 1, btype='lowpass', analog=True, output='ba')\n",
    "    tf = signal.TransferFunction(num, den)\n",
    "    return tf\n",
    "\n",
    "\n",
    "\n",
    "\"\"\"\n",
    "Te crea la tf de un filtro maxima planicidad a partir de un butter\n",
    "\"\"\"\n",
    "def butter2maxflat(tf_butter, epsilon):\n",
    "    # Obtener los polos y ganancia del filtro Butterworth\n",
    "    sys = tf_butter.to_zpk()\n",
    "    poles = sys.poles\n",
    "    zeros = sys.zeros\n",
    "    k = sys.gain/(epsilon**len(poles))\n",
    "    \n",
    "    newPoles = []\n",
    "    for p in poles:\n",
    "        r = p.real/epsilon\n",
    "        i = p.imag/epsilon*(0+1j)\n",
    "        newPole = r+i\n",
    "        newPoles.append(newPole)\n",
    "    \n",
    "    num,den = signal.zpk2tf(zeros, newPoles, k)\n",
    "    tf = signal.TransferFunction(num, den)\n",
    "    return tf\n",
    "\n",
    "\"\"\"\n",
    "Le passas un filtro PB y te aplica el kernell 1/$ para pasar a PA\n",
    "\"\"\"\n",
    "def kernellPb2Pa(tf):\n",
    "    denPb = tf.den\n",
    "    n = len(denPb)\n",
    "    numPa = [1]\n",
    "    for i in range(0,n-1):\n",
    "        numPa.append(0)\n",
    "    aux = denPb.tolist()\n",
    "    aux.reverse()\n",
    "    denPa = []\n",
    "    for coef in aux:\n",
    "        denPa.append(coef/denPb[n-1])\n",
    "    tfPa = signal.TransferFunction(numPa, denPa)\n",
    "    return tfPa\n",
    "\n",
    "\n",
    "\"\"\"\n",
    "Te grafica PZMap, Modulo y Fase\n",
    "\"\"\"\n",
    "def plot_tf(tf):\n",
    "    #Imprimo transferencia\n",
    "    print(tf.num)\n",
    "    print(\"----------------\")\n",
    "    print(tf.den)\n",
    "    #print(\"Polos: \", tf.to_zpk().poles)\n",
    "    #print(\"Ceros: \", tf.to_zpk().zeros)\n",
    "    #print(\"K: \", tf.to_zpk().gain)\n",
    "    \n",
    "    # Obtener la respuesta en frecuencia\n",
    "    w, mag, phase = signal.bode(tf)\n",
    "\n",
    "    # Graficar la respuesta en módulo\n",
    "    plt.figure()\n",
    "    plt.semilogx(w, mag)\n",
    "    plt.xlabel('Frecuencia [rad/s]')\n",
    "    plt.ylabel('Magnitud [dB]')\n",
    "    plt.title('Respuesta en Módulo')\n",
    "    plt.grid(True)\n",
    "\n",
    "    # Graficar la respuesta en fase\n",
    "    plt.figure()\n",
    "    plt.semilogx(w, phase)\n",
    "    plt.xlabel('Frecuencia [rad/s]')\n",
    "    plt.ylabel('Fase [grados]')\n",
    "    plt.title('Respuesta en Fase')\n",
    "    plt.grid(True)\n",
    "\n",
    "    # Obtener los polos y ceros\n",
    "    poles = tf.poles\n",
    "    zeros = tf.zeros\n",
    "\n",
    "    # Configuración del gráfico\n",
    "    fig, ax = plt.subplots()\n",
    "    ax.set_aspect('equal')  # Proporción de ejes igual para una circunferencia circular\n",
    "    ax.axhline(0, color='gray', lw=0.5)  # Eje horizontal\n",
    "    ax.axvline(0, color='gray', lw=0.5)  # Eje vertical\n",
    "    ax.grid(True, linestyle='--', alpha=0.5)  # Activar la grilla\n",
    "    \n",
    "    # Traza la circunferencia unitaria\n",
    "    theta = np.linspace(0, 2 * np.pi, 100)\n",
    "    x = np.cos(theta)\n",
    "    y = np.sin(theta)\n",
    "    ax.plot(x, y, color='gray', linewidth=0.5, linestyle='--')\n",
    "    \n",
    "    # Traza los polos y ceros\n",
    "    ax.plot(np.real(poles), np.imag(poles), 'x')\n",
    "    ax.plot(np.real(zeros), np.imag(zeros), 'o')\n",
    "    \n",
    "    # Etiquetas y leyenda\n",
    "    ax.set_xlabel('Parte real')\n",
    "    ax.set_ylabel('Parte imaginaria')\n",
    "    ax.set_title('Diagrama de polos y ceros', pad=10, loc='center')\n",
    "    ax.legend()\n",
    "    \n",
    "    # Mostrar el gráfico\n",
    "    plt.tight_layout()\n",
    "    plt.show()"
   ]
  },
  {
   "cell_type": "code",
   "execution_count": 5,
   "id": "e1f11138",
   "metadata": {},
   "outputs": [
    {
     "ename": "NameError",
     "evalue": "name 'TransferFunction' is not defined",
     "output_type": "error",
     "traceback": [
      "\u001b[1;31m---------------------------------------------------------------------------\u001b[0m",
      "\u001b[1;31mNameError\u001b[0m                                 Traceback (most recent call last)",
      "Cell \u001b[1;32mIn[5], line 13\u001b[0m\n\u001b[0;32m     11\u001b[0m k \u001b[38;5;241m=\u001b[39m \u001b[38;5;241m0.45\u001b[39m\u001b[38;5;241m*\u001b[39m\u001b[38;5;241m*\u001b[39m\u001b[38;5;241m4\u001b[39m \u001b[38;5;241m*\u001b[39m \u001b[38;5;241m2.511\u001b[39m\n\u001b[0;32m     12\u001b[0m num,den \u001b[38;5;241m=\u001b[39m signal\u001b[38;5;241m.\u001b[39mzpk2tf(z,p,k)\n\u001b[1;32m---> 13\u001b[0m tf \u001b[38;5;241m=\u001b[39m \u001b[43mTransferFunction\u001b[49m(num,den)\n\u001b[0;32m     14\u001b[0m plot_tf(tf)\n",
      "\u001b[1;31mNameError\u001b[0m: name 'TransferFunction' is not defined"
     ]
    }
   ],
   "source": [
    "p1 = -7.995 + 0.81j\n",
    "p2 = -7.995 - 0.81j\n",
    "p3 = -0.012 + 1.23j\n",
    "p4 = -0.012 - 1.23j\n",
    "p5 = 0.0227 + 0.916j\n",
    "p6 = 0.0227 - 0.916j\n",
    "p7 = 0.027 + 1.09j\n",
    "p8 = 0.027 - 1.09j\n",
    "p = [p1,p2,p3,p4,p5,p6,p7,p8]\n",
    "z = [0,0,0,0]\n",
    "k = 0.45**4 * 2.511\n",
    "num,den = signal.zpk2tf(z,p,k)\n",
    "plot_tf(tf)"
   ]
  },
  {
   "cell_type": "markdown",
   "id": "09f86eb0",
   "metadata": {},
   "source": [
    "Como podemos ver esta ultima transferencia esta normalizada en freciencia pero ya le quitamos la norma de Butter de encima. Si lo comparamos con los calculos es distinta ya que ahi lo que hicimos fue aplicar el kernell directamente a la transferencia normalizada de Butter y luego desnormalizamos a nivel componentes. Sin embargo tiene el comportamiento esperado"
   ]
  },
  {
   "cell_type": "markdown",
   "id": "62d4e520",
   "metadata": {},
   "source": [
    "### LTSpice\n",
    "<img src=\"circuitoSpice.png\">\n",
    "<img src=\"GraficoSpice.png\">\n",
    "\n",
    "### Observaciones\n",
    "Vemos que si implementamos el diseño con un inductor, se comporta tal cual los cálculos.\n",
    "Sin embargo, cuando lo hacemos con el GIC vemos que el comportamiento no es exactamente el esperado.\n",
    "Creo que esto es así ya que hay un error de redondeo en el GIC además de que el operacional no es 100% ideal y por ello a altas frecuencias se deforma.\n",
    "\n",
    "Cabe destacar que probé en poner el capacitor en Z2 y Z4 y de ambas formas el simulador obtiene la misma respuesta"
   ]
  }
 ],
 "metadata": {
  "kernelspec": {
   "display_name": "Python 3 (ipykernel)",
   "language": "python",
   "name": "python3"
  },
  "language_info": {
   "codemirror_mode": {
    "name": "ipython",
    "version": 3
   },
   "file_extension": ".py",
   "mimetype": "text/x-python",
   "name": "python",
   "nbconvert_exporter": "python",
   "pygments_lexer": "ipython3",
   "version": "3.11.1"
  }
 },
 "nbformat": 4,
 "nbformat_minor": 5
}
