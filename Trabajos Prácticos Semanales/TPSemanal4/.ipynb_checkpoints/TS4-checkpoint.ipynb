{
 "cells": [
  {
   "cell_type": "markdown",
   "id": "f530132d",
   "metadata": {},
   "source": [
    "# TP Semanal 4"
   ]
  },
  {
   "cell_type": "markdown",
   "id": "af3c95eb",
   "metadata": {},
   "source": [
    "## Consignas:\n",
    "\n",
    "<img src=\"consignas.png\">"
   ]
  },
  {
   "cell_type": "markdown",
   "id": "0d6e4528",
   "metadata": {},
   "source": [
    "## Resolución:"
   ]
  },
  {
   "cell_type": "code",
   "execution_count": null,
   "id": "f2c0583c",
   "metadata": {},
   "outputs": [],
   "source": [
    "from IPython.display import IFrame\n",
    "\n",
    "IFrame(src='TS4.pdf', width=700, height=600)"
   ]
  },
  {
   "cell_type": "markdown",
   "id": "728e6bb4",
   "metadata": {},
   "source": [
    "## Simulaciones:"
   ]
  },
  {
   "cell_type": "markdown",
   "id": "80786c80",
   "metadata": {},
   "source": [
    "### Python"
   ]
  },
  {
   "cell_type": "code",
   "execution_count": 13,
   "id": "5bbc04ac",
   "metadata": {},
   "outputs": [],
   "source": [
    "import numpy as np\n",
    "import matplotlib.pyplot as plt\n",
    "from scipy import signal\n",
    "\n",
    "k=10**3\n",
    "m=10**-3\n",
    "\n",
    "\"\"\"\n",
    "Te crea tf butter normalizada\n",
    "\"\"\"\n",
    "def butterworth_tf(n):\n",
    "    # Crear los polos del filtro Butterworth\n",
    "    tf = signal.butter(n, 1, analog=True, output='ba')\n",
    "    return tf\n",
    "\n",
    "\n",
    "\n",
    "\"\"\"\n",
    "Te crea la tf de un filtro maxima planicidad\n",
    "\"\"\"\n",
    "def maxflat_tf(n, epsilon):\n",
    "    # Calcular los polos del filtro de máxima planicidad\n",
    "    poles = signal.maxflat(n, epsilon)\n",
    "    # Crear la función de transferencia del filtro de máxima planicidad\n",
    "    tf = signal.ZerosPolesGain([], poles, 1)\n",
    "    return tf\n",
    "\n",
    "\"\"\"\n",
    "Te grafica PZMap, Modulo y Fase\n",
    "\"\"\"\n",
    "def plot_tf(tf):\n",
    "    #Imprimo transferencia\n",
    "    print(filtroButterPb)\n",
    "    \n",
    "    # Obtener la respuesta en frecuencia\n",
    "    w, mag, phase = signal.bode(tf)\n",
    "\n",
    "    # Graficar la respuesta en módulo\n",
    "    plt.figure()\n",
    "    plt.semilogx(w, mag)\n",
    "    plt.xlabel('Frecuencia [rad/s]')\n",
    "    plt.ylabel('Magnitud [dB]')\n",
    "    plt.title('Respuesta en Módulo')\n",
    "    plt.grid(True)\n",
    "\n",
    "    # Graficar la respuesta en fase\n",
    "    plt.figure()\n",
    "    plt.semilogx(w, phase)\n",
    "    plt.xlabel('Frecuencia [rad/s]')\n",
    "    plt.ylabel('Fase [grados]')\n",
    "    plt.title('Respuesta en Fase')\n",
    "    plt.grid(True)\n",
    "\n",
    "    # Obtener los polos y ceros\n",
    "    poles = tf.poles\n",
    "    zeros = tf.zeros\n",
    "\n",
    "    # Graficar el diagrama de polos y ceros\n",
    "    plt.figure()\n",
    "    plt.scatter(np.real(poles), np.imag(poles), marker='x', color='red', label='Polos')\n",
    "    plt.scatter(np.real(zeros), np.imag(zeros), marker='o', color='blue', label='Ceros')\n",
    "    plt.xlabel('Parte Real')\n",
    "    plt.ylabel('Parte Imaginaria')\n",
    "    plt.title('Diagrama de Polos y Ceros')\n",
    "    plt.legend()\n",
    "    plt.grid(True)\n",
    "\n",
    "    # Mostrar las gráficas\n",
    "    plt.show()"
   ]
  },
  {
   "cell_type": "code",
   "execution_count": 14,
   "id": "cefdd267",
   "metadata": {},
   "outputs": [
    {
     "name": "stdout",
     "output_type": "stream",
     "text": [
      "Normalizo en freq:\n",
      "ws =  0.25\n",
      "wp =  1.0\n",
      "\n",
      "Aplico kernell:\n",
      "ws_pb =  4.0\n",
      "wp_pb =  1.0\n",
      "\n",
      "Diseño filtro pasa bajos:\n",
      "epsilon =  0.5088471399095875\n",
      "n =  3\n",
      "\n",
      "Diseño de filtro PB\n"
     ]
    },
    {
     "ename": "AttributeError",
     "evalue": "'tuple' object has no attribute 'poles'",
     "output_type": "error",
     "traceback": [
      "\u001b[1;31m---------------------------------------------------------------------------\u001b[0m",
      "\u001b[1;31mAttributeError\u001b[0m                            Traceback (most recent call last)",
      "Cell \u001b[1;32mIn[14], line 41\u001b[0m\n\u001b[0;32m     39\u001b[0m \u001b[38;5;66;03m#Formo transferencia    \u001b[39;00m\n\u001b[0;32m     40\u001b[0m \u001b[38;5;28mprint\u001b[39m(\u001b[38;5;124m\"\u001b[39m\u001b[38;5;124mDiseño de filtro PB\u001b[39m\u001b[38;5;124m\"\u001b[39m)\n\u001b[1;32m---> 41\u001b[0m filtroButterPb \u001b[38;5;241m=\u001b[39m \u001b[43mbutterworth_tf\u001b[49m\u001b[43m(\u001b[49m\u001b[43mn\u001b[49m\u001b[43m)\u001b[49m\n\u001b[0;32m     42\u001b[0m plot_tf(filtroButterPb)\n\u001b[0;32m     44\u001b[0m \u001b[38;5;66;03m#filtroMaxFlatPb = maxflat_tf(n, epsilon)\u001b[39;00m\n\u001b[0;32m     45\u001b[0m \u001b[38;5;66;03m#plot_tf(filtroButterPb)\u001b[39;00m\n\u001b[0;32m     46\u001b[0m \u001b[38;5;66;03m#Vuelvo a topología PA\u001b[39;00m\n\u001b[0;32m     47\u001b[0m \n\u001b[0;32m     48\u001b[0m \u001b[38;5;66;03m#Grafico y verifico los valores\u001b[39;00m\n",
      "Cell \u001b[1;32mIn[13], line 13\u001b[0m, in \u001b[0;36mbutterworth_tf\u001b[1;34m(n)\u001b[0m\n\u001b[0;32m     11\u001b[0m \u001b[38;5;28;01mdef\u001b[39;00m \u001b[38;5;21mbutterworth_tf\u001b[39m(n):\n\u001b[0;32m     12\u001b[0m     \u001b[38;5;66;03m# Crear los polos del filtro Butterworth\u001b[39;00m\n\u001b[1;32m---> 13\u001b[0m     poles \u001b[38;5;241m=\u001b[39m \u001b[43msignal\u001b[49m\u001b[38;5;241;43m.\u001b[39;49m\u001b[43mbutter\u001b[49m\u001b[43m(\u001b[49m\u001b[43mn\u001b[49m\u001b[43m,\u001b[49m\u001b[43m \u001b[49m\u001b[38;5;241;43m1\u001b[39;49m\u001b[43m,\u001b[49m\u001b[43m \u001b[49m\u001b[43manalog\u001b[49m\u001b[38;5;241;43m=\u001b[39;49m\u001b[38;5;28;43;01mTrue\u001b[39;49;00m\u001b[43m,\u001b[49m\u001b[43m \u001b[49m\u001b[43moutput\u001b[49m\u001b[38;5;241;43m=\u001b[39;49m\u001b[38;5;124;43m'\u001b[39;49m\u001b[38;5;124;43mzpk\u001b[39;49m\u001b[38;5;124;43m'\u001b[39;49m\u001b[43m)\u001b[49m\u001b[38;5;241;43m.\u001b[39;49m\u001b[43mpoles\u001b[49m()\n\u001b[0;32m     15\u001b[0m     \u001b[38;5;66;03m# Crear la función de transferencia\u001b[39;00m\n\u001b[0;32m     16\u001b[0m     zeros \u001b[38;5;241m=\u001b[39m []\n",
      "\u001b[1;31mAttributeError\u001b[0m: 'tuple' object has no attribute 'poles'"
     ]
    }
   ],
   "source": [
    "#Datos plantilla PA\n",
    "alfaMax = 1\n",
    "alfaMin = 30\n",
    "ws = 10*k\n",
    "wp = 40*k\n",
    "\n",
    "#Normalizo en frecuencia\n",
    "normaW = wp\n",
    "wp /= normaW\n",
    "ws /= normaW\n",
    "print(\"Normalizo en freq:\")\n",
    "print(\"ws = \", ws)\n",
    "print(\"wp = \", wp)\n",
    "print(\"\")\n",
    "\n",
    "#Aplico kernell a la plantilla\n",
    "wp_pb = wp**-1\n",
    "ws_pb = ws**-1\n",
    "print(\"Aplico kernell:\")\n",
    "print(\"ws_pb = \", ws_pb)\n",
    "print(\"wp_pb = \", wp_pb)\n",
    "print(\"\")\n",
    "\n",
    "#Diseño filtro PB\n",
    "epsilon = np.sqrt(10**(alfaMax/10)-1)\n",
    "alfaAux = 0\n",
    "n=0\n",
    "while alfaAux < alfaMin:\n",
    "    n+=1\n",
    "    alfaAux = 10*np.log10(1+epsilon**2*ws_pb**(2*n))\n",
    "print(\"Diseño filtro pasa bajos:\")\n",
    "print(\"epsilon = \", epsilon)\n",
    "print(\"n = \", n)\n",
    "print(\"\")\n",
    "\n",
    "#Hago una normalizacion butter\n",
    "normaButter = epsilon**(-1/n)\n",
    "\n",
    "#Formo transferencia    \n",
    "print(\"Diseño de filtro PB\")\n",
    "filtroButterPb = butterworth_tf(n)\n",
    "plot_tf(filtroButterPb)\n",
    "\n",
    "#filtroMaxFlatPb = maxflat_tf(n, epsilon)\n",
    "#plot_tf(filtroButterPb)\n",
    "#Vuelvo a topología PA\n",
    "\n",
    "#Grafico y verifico los valores"
   ]
  },
  {
   "cell_type": "markdown",
   "id": "62d4e520",
   "metadata": {},
   "source": [
    "### LTSpice\n",
    "<img src=\"circuitoSpice.png\">\n",
    "<img src=\"GraficoSpice.png\">\n",
    "\n",
    "### Observaciones\n",
    "Vemos que si implementamos el diseño con un inductor, se comporta tal cual los cálculos.\n",
    "Sin embargo, cuando lo hacemos con el GIC vemos que el comportamiento no es exactamente el esperado.\n",
    "Creo que esto es así ya que hay un error de redondeo en el GIC además de que el operacional no es 100% ideal y por ello a altas frecuencias se deforma.\n",
    "\n",
    "Cabe destacar que probé en poner el capacitor en Z2 y Z4 y de ambas formas el simulador obtiene la misma respuesta"
   ]
  },
  {
   "cell_type": "code",
   "execution_count": null,
   "id": "17e5d7c2",
   "metadata": {},
   "outputs": [],
   "source": []
  }
 ],
 "metadata": {
  "kernelspec": {
   "display_name": "Python 3 (ipykernel)",
   "language": "python",
   "name": "python3"
  },
  "language_info": {
   "codemirror_mode": {
    "name": "ipython",
    "version": 3
   },
   "file_extension": ".py",
   "mimetype": "text/x-python",
   "name": "python",
   "nbconvert_exporter": "python",
   "pygments_lexer": "ipython3",
   "version": "3.11.1"
  }
 },
 "nbformat": 4,
 "nbformat_minor": 5
}
