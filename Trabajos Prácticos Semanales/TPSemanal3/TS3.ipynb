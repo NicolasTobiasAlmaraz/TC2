{
 "cells": [
  {
   "cell_type": "markdown",
   "id": "f530132d",
   "metadata": {},
   "source": [
    "# TP Semanal 3"
   ]
  },
  {
   "cell_type": "markdown",
   "id": "af3c95eb",
   "metadata": {},
   "source": [
    "## Consignas:\n",
    "\n",
    "<img src=\"consignas.png\">"
   ]
  },
  {
   "cell_type": "markdown",
   "id": "0d6e4528",
   "metadata": {},
   "source": [
    "## Resolución:"
   ]
  },
  {
   "cell_type": "code",
   "execution_count": 1,
   "id": "f2c0583c",
   "metadata": {},
   "outputs": [
    {
     "data": {
      "text/html": [
       "\n",
       "        <iframe\n",
       "            width=\"700\"\n",
       "            height=\"600\"\n",
       "            src=\"TS3.pdf\"\n",
       "            frameborder=\"0\"\n",
       "            allowfullscreen\n",
       "            \n",
       "        ></iframe>\n",
       "        "
      ],
      "text/plain": [
       "<IPython.lib.display.IFrame at 0x29701f38d50>"
      ]
     },
     "execution_count": 1,
     "metadata": {},
     "output_type": "execute_result"
    }
   ],
   "source": [
    "from IPython.display import IFrame\n",
    "\n",
    "IFrame(src='TS3.pdf', width=700, height=600)"
   ]
  },
  {
   "cell_type": "markdown",
   "id": "728e6bb4",
   "metadata": {},
   "source": [
    "## Simulaciones:"
   ]
  },
  {
   "cell_type": "markdown",
   "id": "80786c80",
   "metadata": {},
   "source": [
    "### Python"
   ]
  },
  {
   "cell_type": "markdown",
   "id": "62d4e520",
   "metadata": {},
   "source": [
    "### LTSpice"
   ]
  }
 ],
 "metadata": {
  "kernelspec": {
   "display_name": "Python 3 (ipykernel)",
   "language": "python",
   "name": "python3"
  },
  "language_info": {
   "codemirror_mode": {
    "name": "ipython",
    "version": 3
   },
   "file_extension": ".py",
   "mimetype": "text/x-python",
   "name": "python",
   "nbconvert_exporter": "python",
   "pygments_lexer": "ipython3",
   "version": "3.11.1"
  }
 },
 "nbformat": 4,
 "nbformat_minor": 5
}
